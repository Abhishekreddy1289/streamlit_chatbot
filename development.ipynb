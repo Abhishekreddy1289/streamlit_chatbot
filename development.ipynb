{
 "cells": [
  {
   "cell_type": "code",
   "execution_count": null,
   "metadata": {},
   "outputs": [],
   "source": []
  },
  {
   "cell_type": "code",
   "execution_count": 4,
   "metadata": {},
   "outputs": [],
   "source": [
    "import PyPDF2\n",
    "from langchain.docstore.document import Document\n",
    "def extract_text(file_path, file_name):\n",
    "    try:\n",
    "        reader = PyPDF2.PdfReader(file_path)\n",
    "        docs=[]\n",
    "        for page_num in range(len(reader.pages)):\n",
    "            page = reader.pages[page_num]\n",
    "            text = page.extract_text() if page.extract_text() else \"\"\n",
    "            doc =  Document(page_content=text, metadata={\"filename\": file_name, \"page_no\":int(page_num)+1})\n",
    "            docs.append(doc)\n",
    "        return docs\n",
    "    except Exception as e:\n",
    "        print(f\"Error reading PDF file: {e}\")\n",
    "        raise Exception(\"Error in PDF reading\")"
   ]
  },
  {
   "cell_type": "code",
   "execution_count": 5,
   "metadata": {},
   "outputs": [],
   "source": [
    "docs=extract_text(\"Journey_Documentation_ADSS.pdf\",\"Journey_Documentation_ADSS\")"
   ]
  },
  {
   "cell_type": "code",
   "execution_count": 6,
   "metadata": {},
   "outputs": [
    {
     "data": {
      "text/plain": [
       "[Document(metadata={'filename': 'Journey_Documentation_ADSS', 'page_no': 1}, page_content=' \\n \\n \\nJourney Documentation  \\nOf \\nADSS Trader Chatbot  \\n27th Sep 2024  \\n \\n \\n \\n \\n \\n \\nDOCUMENT INFORMATION  \\n  \\n  Information  \\nDocument Owner  Abhishek V S  \\nIssue Date  27-Sep -2024   \\nLast Saved Date  27-Sept -2024   \\nFile Name  Journey documentation of ADSS  \\n '),\n",
       " Document(metadata={'filename': 'Journey_Documentation_ADSS', 'page_no': 2}, page_content=' \\n1. Introduction  \\nOverview of the ADSS Project  \\nThe ADSS project focuses on developing an advanced ADSS  Trader chatbot designed to \\nenhance user interactions in the trading domain. This chatbot leverages Natural Language \\nUnderstanding (NLU) capabilities through Azure Cognitive Services, enabling it to \\nproficiently analyze user queries in both English and Ara bic. The system is built to interpret \\nvoice prompts, ensuring a versatile communication platform for users.  \\nKey components of the project include:  \\n•  Natural Language Understanding:  The chatbot utilizes state -of-the-art NLU to \\naccurately understand and respond to user inquiries in multiple languages.  \\n• Data Translation and Integration:  It seamlessly translates trading insights sourced \\nfrom ADSS back -end systems. Content Moderation modules are integrated to \\nensure the accuracy and appropriateness of the data provided to users.  \\n• Enhanced Responses: Deep links are implemented to facilitate enhanced \\nresponses, allowing the chatbot to maintain session context and deliver relevant \\ninformation dynamically during interactions.  \\n• Error Handling and Compliance: The chatbot is designed to recover promptly from \\nany issues encountered during user interactions. It escalates queries based on \\npredefined triggers, ensuring adherence to legal compliance and privacy standards \\nthroughout the process.  \\n• Data Ingestion Pipelines:  Building robust data ingestion pipelines from various \\nthird -party APIs provides a live connection to real -time data, enriching the chatbot’s \\nresponses.  \\n• Admin Portal for Analytics:  An admin portal has been developed to track usage \\nanalytics and monitor live conversations, providing insights into user engagement \\nand chatbot performance.  \\n  \\nPurpose of the Documentation  \\nThe purpose of this journey documentation is to provide a detailed account of the \\ndevelopment and implementation of the ADSS project. It aims to outline the client \\nexpectations, describe the strategies employed to meet those expectations, and \\ndocument the progress made in various areas, including accuracy, latency, product '),\n",
       " Document(metadata={'filename': 'Journey_Documentation_ADSS', 'page_no': 3}, page_content=\"quality, and security. This documentation serves as a valuable resource for stakeholders to \\nunderstand the journey of the project, from conception through execution, and highlights \\nthe ongoing commitment to excellence in delivering a high -quality trading a ssistant.  \\n 2. Client Expectations  \\n Initial Requirements  \\nThe initial requirements outlined by the client, as documented in the agreement facilitated \\nby our sales team, included:  \\n• Fast Response Time: The client emphasized the need for quick responses from the \\nchatbot to enhance user experience and engagement.  \\n• Natural Language Understanding : The ability to accurately comprehend and \\nrespond to inquiries in both English and Arabic was a critical requirement.  \\n• Seamless Integration:  The chatbot needed to integrate effectively with ADSS back -\\nend systems and third -party APIs to provide up -to-date trading information.  \\n• Error Handling : A robust error management system was required to ensure smooth \\nrecovery from any issues encountered during user interactions.  \\n• Compliance:  The chatbot had to maintain adherence to legal and privacy \\nstandards throughout its operations.  \\nWhile the need for fast responses was explicitly stated, the implementation of a \\nstreaming response feature was not part of the initial requirements  but was added to \\nenhance performance.  \\n  \\nKey Performance Indicators (KPIs)  \\nTo measure the success of the chatbot and ensure alignment with client expectations, we \\ndeveloped the following Key Performance Indicators (KPIs):  \\n• User Engagement: Tracking the frequency and duration of user interactions with \\nthe chatbot to gauge overall engagement levels.  \\n• User Satisfaction and Experience: Measuring user feedback and satisfaction \\nlevels to ensure the chatbot meets their needs effectively.  \\n• Error Analysis:  Monitoring and analyzing errors to enhance the chatbot's reliability \\nand performance.  \\n• Performance Metrics: Assessing the efficiency of the chatbot in real -time, \\nincluding response times and accuracy.  \"),\n",
       " Document(metadata={'filename': 'Journey_Documentation_ADSS', 'page_no': 4}, page_content=\"  \\nAll KPIs are accessible via the admin portal, where the client can track performance \\nmetrics and user interactions . Additionally, an export feature allows for easy extraction of \\nuser interaction data, enabling detailed analysis and reporting.   \\n \\n3. Approach and Implementation  \\nApproach  \\nThe approach to developing the ADSS  Trader chatbot was meticulously designed to \\nstreamline user queries and enhance overall efficiency. The flow of user interactions is as \\nfollows:  \\n1. User Inquiry:  The chatbot begins by receiving a query from the user, initiating the \\ninteraction.  \\n2. Follow -up Analysis:  The system assesses whether follow -up questions are necessary, \\nrephrasing the query and determining the user's intent using GPT -3.5.  \\n3. Intent Processing : Upon identifying the intent, the chatbot interacts with the relevant \\nADSS Central APIs to retrieve the necessary information.  \\n4. Data Preprocessing: The data retrieved is preprocessed for clarity and efficiency, \\nconverting it into markdown format for easier handling.  \\n5. Response Generation:  The processed data and rephrased query are then fed into the \\nGPT -4 model, which generates accurate and contextually appropriate responses for the \\nuser.  \\nThis comprehensive approach not only ensures that users receive timely and relevant \\ninformation but also allows administrators to monitor and enhance the chatbot's \\nperformance in real -time.  \\n  \\nProject Timeline  \\nThe initial project timeline was adjusted due to heightened security requirements. Ensuring \\nthat all aspects of the chatbot complied with strict security standards necessitated \\nadditional time for development and testing. This extended timeline ultimately led to a \\nmore robust and secure product.  \"),\n",
       " Document(metadata={'filename': 'Journey_Documentation_ADSS', 'page_no': 5}, page_content='  \\nTeam Collaboration and Roles  \\nThe success of the ADSS project can be attributed to exemplary team collaboration. Each \\nteam member played a crucial role in the project’s execution, including:  \\n• Project Managers:  Oversaw the project timeline and ensured alignment with client \\nexpectations.  \\n• Developers:  Implemented the chatbot functionalities, focusing on seamless \\nintegration and performance optimization.  \\n• Quality Assurance Specialists: Conducted thorough testing to ensure the chatbot \\nmet quality standards and adhered to compliance regulations.  \\n• UX/UI Designers:  Focused on creating an intuitive interface for both users and \\nadministrators.  \\nThis collaborative effort fostered an environment of innovation and efficiency, allowing the \\nteam to address challenges proactively and deliver a high -quality chatbot.  \\n \\n4. Accuracy Improvements  \\n Techniques Used  \\nTo enhance the accuracy of the ADSS Trader chatbot, we implemented a variety of \\nadvanced techniques:  \\n• Advanced Prompting Techniques: We employed sophisticated prompting \\nmethods to better guide the chatbot’s understanding of user queries, ensuring more \\nrelevant responses.  \\n• Combined Intent Finding and Question Rephrasing:  By integrating the tasks of \\nintent detection and query rephrasing, we streamlined the process, allowing for \\nquicker and more accurate interpretations of user inquiries.  \\n• Multithreading for Parallel Processing: We utilized multithreading to perform \\nmultiple tasks simultaneously, such as calling third -party APIs, preprocessing data, \\nand post -processing responses. This approach enhanced the chatbot’s efficiency \\nand responsiveness.  \\n• Streaming Responses: Implementing streaming for bot responses allowed users to \\nreceive information progressively, improving the perceived speed and fluidity of \\ninteractions.  '),\n",
       " Document(metadata={'filename': 'Journey_Documentation_ADSS', 'page_no': 6}, page_content=\"• Email Trigger for User Support:  A dedicated email trigger was set up specifically \\nfor user support inquiries, ensuring that users receive timely assistance for complex \\nquestions that may require human intervention.  \\n  \\nMeasurement of Accuracy Gains  \\n  \\nTo evaluate the improvements in accuracy, we used Retrieval -Augmented Generation \\n(RAG) metrics, which included:  \\n- Recall: This metric assessed the chatbot's ability to retrieve relevant information from the \\navailable data, indicating how well it can provide correct answers to user queries.  \\n- Precision: Precision measured the proportion of relevant results among all responses \\ngiven by the chatbot, reflecting the accuracy of the answers provided.  \\n- Answer Relevancy: This metric evaluated how well the responses aligned with user \\nexpectations and needs, ensuring that the information delivered was both appropriate and \\nuseful.  \\nBy utilizing these techniques and metrics, we successfully enhanced the accuracy of the \\nchatbot, leading to improved user satisfaction and engagement.  \\n \\n 5. Speech to Text (STT) and Text to Speech (TTS) Optimization  \\nTo enhance user interaction and accessibility, we implemented advanced Speech to Text \\n(STT) and Text to Speech (TTS) features on the frontend of the ADSS Trader chatbot.  \\nFeatures:  \\n- Voice Input:  Users can submit queries using voice input, allowing for a hands -free and \\nintuitive experience.  \\n- Text Editing: After capturing the voice input, users have the option to edit the transcribed \\ntext in the input bar. This feature empowers users to refine their queries before \\nsubmission, ensuring greater accuracy in their requests.  \\n- Voice Output: When the input is given via voice, users receive a voice response, creating \\na more engaging and interactive experience. This TTS functionality ensures that users can \"),\n",
       " Document(metadata={'filename': 'Journey_Documentation_ADSS', 'page_no': 7}, page_content='listen to the information provided, catering to different preferences for information \\nconsumption.  \\n- Text Display Option: Users can also click on a \"Show Text\" button to view the text version \\nof the chatbot\\'s response. This dual -output capability accommodates users who may \\nprefer reading over listening or who need to reference the information later.  \\nBy integrating these STT and TTS functionalities, we significantly improved the accessibility \\nand usability of the chatbot, enhancing the overall user experience.  \\n \\n 9. Security Considerations  \\nData Protection Measures  \\nTo ensure robust security for the ADSS Trader chatbot, we implemented several critical \\ndata protection measures:  \\n- Service Principal Authentication: All Azure services are accessed using the service \\nprincipal (SPN) technique. This method restricts access to only allowed IP addresses, \\nsignificantly enhancing security.  \\n- Token -Based Authentication:  The initial request is directed to the service principal, \\nwhich issues a bearer token. This token -based authentication eliminates the use of key -\\nbased methods, providing a more secure access mechanism. The token is designed to \\nexpire after 10 minutes, fur ther mitigating potential security risks.  \\n- Private Services: All Azure services utilized in the project are private, ensuring that \\nsensitive data remains protected from unauthorized access.  \\n- Data Storage and Logging: User data is securely stored in Azure Cosmos DB, while Azure \\nMonitor is employed for comprehensive logging and monitoring. This setup not only \\nsafeguards data but also provides valuable insights into system performance and security.  \\n- Adherence to Best Coding Practices: Developers followed industry best practices in \\ncoding, ensuring the implementation of secure coding techniques. This diligence helps \\nprevent vulnerabilities and promotes the overall integrity of the application.  \\n- CSOC Compliance:  The project meets all Cyber Security Operations Center (CSOC) \\nrequirements, ensuring that the system is protected against potential threats and aligns \\nwith established security protocols.  '),\n",
       " Document(metadata={'filename': 'Journey_Documentation_ADSS', 'page_no': 8}, page_content=\"By leveraging these advanced security features and practices, we ensure that user data is \\nprotected to the highest standards, maintaining confidentiality and integrity throughout the \\nchatbot’s operations.  \\n \\n11. Conclusion  \\nSummary of Achievements  \\nThe development and implementation of the ADSS Trader chatbot for the ADSS project \\nrepresent a significant advancement in user engagement and support within the trading \\ndomain. Key achievements include:  \\n  \\n- Enhanced User Interaction: Through the integration of advanced Speech to Text (STT) \\nand Text to Speech (TTS) functionalities, users can interact with the chatbot via voice, edit \\ntheir queries, and receive both spoken and text responses, significantly improving \\naccessibility and enga gement.  \\n- Accuracy Improvements:  By employing cutting -edge prompting techniques, \\nmultithreading for parallel processing, and a comprehensive flow for handling user \\nqueries, we successfully enhanced the accuracy of the chatbot. The implementation of \\nRetrieval -Augmented Generation (RAG) me trics allowed us to measure improvements in \\nrecall, precision, and answer relevancy.  \\n- Robust Security Measures: The project prioritized security through service principal \\nauthentication, token -based access, and adherence to best coding practices. Additionally, \\ncompliance with CSOC requirements ensures that the chatbot operates within established \\nsecurity protocols.  \\n- Data Protection and Compliance: The chatbot's architecture leverages Azure’s secure \\nservices for data storage and logging, safeguarding user information while adhering to \\nrelevant regulatory requirements.  \\n- Actionable Insights: The development of an admin portal provides real -time analytics \\nand tracking of user interactions, empowering administrators to make data -driven \\ndecisions and continuously improve the chatbot’s performance.  \\nFuture Directions  \"),\n",
       " Document(metadata={'filename': 'Journey_Documentation_ADSS', 'page_no': 9}, page_content='Looking ahead, there are several opportunities to further enhance the ADSS  Trader \\nchatbot:  \\n- Feature Expansion:  Incorporating additional features such as advanced analytics, \\npersonalized user experiences, and multi -language support can broaden the chatbot’s \\nfunctionality and appeal to a wider audience.  \\n- Enhanced Integration: Exploring deeper integrations with other trading platforms and \\ntools can provide users with a more seamless experience, offering richer insights and data \\ndirectly through the chatbot.  \\n- User Feedback Loop: Establishing a structured feedback mechanism will help gather \\ninsights directly from users, allowing for continuous improvement based on their needs \\nand preferences.  \\n  \\nIn summary, the ADSS Trader chatbot has set a strong foundation for delivering \\nexceptional user support and engagement in the trading sector. With ongoing \\nenhancements and a focus on user experience, the chatbot is poised to evolve further, \\nproviding even greater value to its users.  ')]"
      ]
     },
     "execution_count": 6,
     "metadata": {},
     "output_type": "execute_result"
    }
   ],
   "source": [
    "docs"
   ]
  },
  {
   "cell_type": "code",
   "execution_count": null,
   "metadata": {},
   "outputs": [],
   "source": []
  },
  {
   "cell_type": "code",
   "execution_count": null,
   "metadata": {},
   "outputs": [],
   "source": []
  },
  {
   "cell_type": "code",
   "execution_count": 8,
   "metadata": {},
   "outputs": [],
   "source": [
    "from openai import AzureOpenAI\n",
    "from langchain_openai import OpenAIEmbeddings, AzureOpenAIEmbeddings\n",
    "api_key=\"501e4271616c4a2baadda9bf1a669731\"\n",
    "azure_endpoint=\"https://openai-ct.openai.azure.com/\"\n",
    "api_version=\"2023-07-01-preview\"\n",
    "embedding_model_name=\"text-embedding-ada-002\"\n",
    "\n",
    "embeddings = AzureOpenAIEmbeddings(\n",
    "            model=embedding_model_name, \n",
    "            api_key=api_key, \n",
    "            azure_endpoint=azure_endpoint, \n",
    "            openai_api_version=api_version)"
   ]
  },
  {
   "cell_type": "code",
   "execution_count": 17,
   "metadata": {},
   "outputs": [],
   "source": [
    "\n",
    "from pinecone import Pinecone, ServerlessSpec\n",
    "from langchain_pinecone import PineconeVectorStore\n",
    "import os\n",
    "import time\n",
    "pc = Pinecone(api_key=\"pcsk_4hp8P_FGu8ZMCRX7gEjF1AH7ZTF3fv6V4uFyrTpNHkCidkvCofdF6LjR4QLwSZCpqSTGC\")\n",
    "os.environ['PINECONE_API_KEY'] = 'pcsk_4hp8P_FGu8ZMCRX7gEjF1AH7ZTF3fv6V4uFyrTpNHkCidkvCofdF6LjR4QLwSZCpqSTGC'\n",
    "index_name=\"test\""
   ]
  },
  {
   "cell_type": "code",
   "execution_count": 23,
   "metadata": {},
   "outputs": [],
   "source": [
    "\n",
    "def vector_store() -> None:\n",
    "    existing_indexes = [index_info[\"name\"] for index_info in pc.list_indexes()]\n",
    "    if index_name not in existing_indexes:\n",
    "        pc.create_index(\n",
    "            name=index_name,\n",
    "            dimension=1536,\n",
    "            metric=\"cosine\",\n",
    "            spec=ServerlessSpec(cloud=\"aws\", region=\"us-east-1\"),\n",
    "        )\n",
    "        while not pc.describe_index(index_name).status[\"ready\"]:\n",
    "            time.sleep(1)\n",
    "    return PineconeVectorStore(index_name=index_name, embedding=embeddings)"
   ]
  },
  {
   "cell_type": "code",
   "execution_count": 24,
   "metadata": {},
   "outputs": [],
   "source": [
    "docsearch=vector_store()"
   ]
  },
  {
   "cell_type": "code",
   "execution_count": 28,
   "metadata": {},
   "outputs": [
    {
     "data": {
      "text/plain": [
       "['59eaccda-dd05-4a1a-8f65-f6db14e7a861']"
      ]
     },
     "execution_count": 28,
     "metadata": {},
     "output_type": "execute_result"
    }
   ],
   "source": [
    "docsearch.add_documents([docs[3]])"
   ]
  },
  {
   "cell_type": "code",
   "execution_count": 37,
   "metadata": {},
   "outputs": [],
   "source": [
    "query=\"what are Initial Requirements of project?\"\n",
    "filters={\n",
    "  \"filename\": { \"$in\": \"Journey_Documentation_ADSS\" }\n",
    "}\n",
    "docs=docsearch.similarity_search(query, k=1)"
   ]
  },
  {
   "cell_type": "code",
   "execution_count": 51,
   "metadata": {},
   "outputs": [
    {
     "data": {
      "text/plain": [
       "\"quality, and security. This documentation serves as a valuable resource for stakeholders to \\nunderstand the journey of the project, from conception through execution, and highlights \\nthe ongoing commitment to excellence in delivering a high -quality trading a ssistant.  \\n 2. Client Expectations  \\n Initial Requirements  \\nThe initial requirements outlined by the client, as documented in the agreement facilitated \\nby our sales team, included:  \\n• Fast Response Time: The client emphasized the need for quick responses from the \\nchatbot to enhance user experience and engagement.  \\n• Natural Language Understanding : The ability to accurately comprehend and \\nrespond to inquiries in both English and Arabic was a critical requirement.  \\n• Seamless Integration:  The chatbot needed to integrate effectively with ADSS back -\\nend systems and third -party APIs to provide up -to-date trading information.  \\n• Error Handling : A robust error management system was required to ensure smooth \\nrecovery from any issues encountered during user interactions.  \\n• Compliance:  The chatbot had to maintain adherence to legal and privacy \\nstandards throughout its operations.  \\nWhile the need for fast responses was explicitly stated, the implementation of a \\nstreaming response feature was not part of the initial requirements  but was added to \\nenhance performance.  \\n  \\nKey Performance Indicators (KPIs)  \\nTo measure the success of the chatbot and ensure alignment with client expectations, we \\ndeveloped the following Key Performance Indicators (KPIs):  \\n• User Engagement: Tracking the frequency and duration of user interactions with \\nthe chatbot to gauge overall engagement levels.  \\n• User Satisfaction and Experience: Measuring user feedback and satisfaction \\nlevels to ensure the chatbot meets their needs effectively.  \\n• Error Analysis:  Monitoring and analyzing errors to enhance the chatbot's reliability \\nand performance.  \\n• Performance Metrics: Assessing the efficiency of the chatbot in real -time, \\nincluding response times and accuracy.  \""
      ]
     },
     "execution_count": 51,
     "metadata": {},
     "output_type": "execute_result"
    }
   ],
   "source": [
    "docs[0].page_content"
   ]
  },
  {
   "cell_type": "code",
   "execution_count": null,
   "metadata": {},
   "outputs": [],
   "source": []
  }
 ],
 "metadata": {
  "kernelspec": {
   "display_name": "streamlit_bot",
   "language": "python",
   "name": "python3"
  },
  "language_info": {
   "codemirror_mode": {
    "name": "ipython",
    "version": 3
   },
   "file_extension": ".py",
   "mimetype": "text/x-python",
   "name": "python",
   "nbconvert_exporter": "python",
   "pygments_lexer": "ipython3",
   "version": "3.11.5"
  }
 },
 "nbformat": 4,
 "nbformat_minor": 2
}
